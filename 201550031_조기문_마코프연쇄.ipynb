{
  "nbformat": 4,
  "nbformat_minor": 0,
  "metadata": {
    "colab": {
      "name": "201550031_조기문.ipynb",
      "provenance": [],
      "collapsed_sections": []
    },
    "kernelspec": {
      "name": "python3",
      "display_name": "Python 3"
    }
  },
  "cells": [
    {
      "cell_type": "code",
      "metadata": {
        "id": "vLsk6uKswkX4",
        "colab_type": "code",
        "outputId": "67d83355-3667-4aaf-ffbb-926462e55d7b",
        "colab": {
          "base_uri": "https://localhost:8080/",
          "height": 351
        }
      },
      "source": [
        "#1. 마지막에 변화를 잘 관찰 할 수 있게, 데이터 프레임을 이용하기 위해 padas를 임포트 한다.\n",
        "import pandas as pd\n",
        "\n",
        "#2. a,b,c의 변화를 담을 변수를 선언하고, 맨 앞에 초기 값인 '3/1'을 넣어준다.\n",
        "a_arr, b_arr, c_arr = [1/3],[1/3],[1/3]\n",
        "\n",
        "#3. k를 선언해준다.\n",
        "k = 0\n",
        "\n",
        "#4. 반복문을 돌면서 a,b,c의 변화하는 값들을 #2에서 선언한 리스트에 넣어 준다.\n",
        "while True:\n",
        "\n",
        "    #5. a,b,c를 계산한다.\n",
        "    a = (0.1 * a_arr[k]) + (0.6 * b_arr[k]) + (0.4 * c_arr[k])\n",
        "    b = (0.5 * a_arr[k]) + (0.1 * b_arr[k]) + (0.5 * c_arr[k])\n",
        "    c = (0.4 * a_arr[k]) + (0.3 * b_arr[k]) + (0.1* c_arr[k])\n",
        "\n",
        "    #6. 계산된 a,b,c의 값들을 #2에서 선언한 리스트에 넣어준다.\n",
        "    a_arr.append(a)\n",
        "    b_arr.append(b)\n",
        "    c_arr.append(c)\n",
        "\n",
        "    #7. k의 값을 1 증가시켜준다.\n",
        "    k += 1\n",
        "\n",
        "    #8. a,b,c의 k번째 값과 K+1 차가 0.001 보다 모두 작다면, 반복문을 종료한다.\n",
        "    if (a_arr[k-1] - a_arr[k] < 0.001) and                            \\\n",
        "       (b_arr[k-1] - b_arr[k] < 0.001) and                            \\\n",
        "       (c_arr[k-1] - c_arr[k] < 0.001):\n",
        "\n",
        "        print(f'k={k} 일때 값이 수렴합니다.\\n')\n",
        "        break\n",
        "\n",
        "#9. a,b,c의 변화를 담은 리스트들을 딕셔너리로 변환해준다.\n",
        "dic = {'Ak': a_arr,\n",
        "       'Bk': b_arr,\n",
        "       'Ck': c_arr}\n",
        "\n",
        "#10. 변화를 잘 살펴보기 위해 위에서 선언한 딕셔너리 자료형을 데이터 프레임 자료형으로 바꿔준다.\n",
        "df = pd.DataFrame(dic)\n",
        "df = df.rename_axis('k')\n",
        "\n",
        "#11. a,b,c의 k번째 값과 K+1 차가 0.001 보다 모두 작은지 확인해보고, 그 값을 알아 본다.\n",
        "print(f'A(k) - A(k+1) < 0.001 :  {a_arr[-2] - a_arr[-1] < 0.001}({a_arr[-2] - a_arr[-1]})')\n",
        "print(f'B(k) - B(k+1) < 0.001 : {b_arr[-1] - b_arr[-2] < 0.001}({b_arr[-1] - b_arr[-2]})')\n",
        "print(f'C(k) - C(k+1) < 0.001 : {c_arr[-1] - c_arr[-2]  < 0.001}({c_arr[-1] - c_arr[-2]})')\n",
        "\n",
        "#12. a,b,c의 변화를 보여주는 데이터 프레임을 출력한다.\n",
        "df\n"
      ],
      "execution_count": 28,
      "outputs": [
        {
          "output_type": "stream",
          "text": [
            "k=5 일때 값이 수렴합니다.\n",
            "\n",
            "A(k) - A(k+1) < 0.001 :  True(0.0008966666666667122)\n",
            "B(k) - B(k+1) < 0.001 : True(0.0008533333333333171)\n",
            "C(k) - C(k+1) < 0.001 : True(4.3333333333395174e-05)\n"
          ],
          "name": "stdout"
        },
        {
          "output_type": "execute_result",
          "data": {
            "text/html": [
              "<div>\n",
              "<style scoped>\n",
              "    .dataframe tbody tr th:only-of-type {\n",
              "        vertical-align: middle;\n",
              "    }\n",
              "\n",
              "    .dataframe tbody tr th {\n",
              "        vertical-align: top;\n",
              "    }\n",
              "\n",
              "    .dataframe thead th {\n",
              "        text-align: right;\n",
              "    }\n",
              "</style>\n",
              "<table border=\"1\" class=\"dataframe\">\n",
              "  <thead>\n",
              "    <tr style=\"text-align: right;\">\n",
              "      <th></th>\n",
              "      <th>Ak</th>\n",
              "      <th>Bk</th>\n",
              "      <th>Ck</th>\n",
              "    </tr>\n",
              "    <tr>\n",
              "      <th>k</th>\n",
              "      <th></th>\n",
              "      <th></th>\n",
              "      <th></th>\n",
              "    </tr>\n",
              "  </thead>\n",
              "  <tbody>\n",
              "    <tr>\n",
              "      <th>0</th>\n",
              "      <td>0.333333</td>\n",
              "      <td>0.333333</td>\n",
              "      <td>0.333333</td>\n",
              "    </tr>\n",
              "    <tr>\n",
              "      <th>1</th>\n",
              "      <td>0.366667</td>\n",
              "      <td>0.366667</td>\n",
              "      <td>0.266667</td>\n",
              "    </tr>\n",
              "    <tr>\n",
              "      <th>2</th>\n",
              "      <td>0.363333</td>\n",
              "      <td>0.353333</td>\n",
              "      <td>0.283333</td>\n",
              "    </tr>\n",
              "    <tr>\n",
              "      <th>3</th>\n",
              "      <td>0.361667</td>\n",
              "      <td>0.358667</td>\n",
              "      <td>0.279667</td>\n",
              "    </tr>\n",
              "    <tr>\n",
              "      <th>4</th>\n",
              "      <td>0.363233</td>\n",
              "      <td>0.356533</td>\n",
              "      <td>0.280233</td>\n",
              "    </tr>\n",
              "    <tr>\n",
              "      <th>5</th>\n",
              "      <td>0.362337</td>\n",
              "      <td>0.357387</td>\n",
              "      <td>0.280277</td>\n",
              "    </tr>\n",
              "  </tbody>\n",
              "</table>\n",
              "</div>"
            ],
            "text/plain": [
              "         Ak        Bk        Ck\n",
              "k                              \n",
              "0  0.333333  0.333333  0.333333\n",
              "1  0.366667  0.366667  0.266667\n",
              "2  0.363333  0.353333  0.283333\n",
              "3  0.361667  0.358667  0.279667\n",
              "4  0.363233  0.356533  0.280233\n",
              "5  0.362337  0.357387  0.280277"
            ]
          },
          "metadata": {
            "tags": []
          },
          "execution_count": 28
        }
      ]
    },
    {
      "cell_type": "code",
      "metadata": {
        "id": "IIaHx_812xV5",
        "colab_type": "code",
        "colab": {}
      },
      "source": [
        ""
      ],
      "execution_count": 0,
      "outputs": []
    }
  ]
}